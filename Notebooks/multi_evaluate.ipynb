{
 "cells": [
  {
   "cell_type": "code",
   "execution_count": 66,
   "metadata": {},
   "outputs": [],
   "source": [
    "'''Use multiple rounds to get a more robust results'''\n",
    "import torch\n",
    "import numpy as np\n",
    "import pandas as pd\n",
    "import seaborn as sns\n",
    "from sklearn.metrics import confusion_matrix, roc_curve, auc, balanced_accuracy_score, roc_auc_score, f1_score, accuracy_score\n",
    "import matplotlib.pyplot as plt\n",
    "import torchvision\n",
    "import shutil\n",
    "import os"
   ]
  },
  {
   "cell_type": "code",
   "execution_count": 92,
   "metadata": {},
   "outputs": [],
   "source": [
    "def cal_metrics(df):\n",
    "    \"\"\"\n",
    "    calculate average accuracy, accuracy per skin type, PQD, DPM, EOM, EOpp0, EOpp1, EOdd, and NAR.\n",
    "    Skin type in the input df should be in the range of [0,5].\n",
    "    input val results csv path, type_indices: a list\n",
    "    output a dic, 'acc_avg': value, 'acc_per_type': array[x,x,x], 'PQD', 'DPM', 'EOM'\n",
    "    \"\"\"\n",
    "    is_binaryCLF = len(df[\"label\"].unique()) == 2\n",
    "\n",
    "    type_indices = sorted(list(df[\"fitzpatrick\"].unique()))\n",
    "    type_indices_binary = sorted(list(df[\"fitzpatrick_binary\"].unique()))\n",
    "\n",
    "    labels_array = np.zeros((len(type_indices), len(df[\"label\"].unique())))\n",
    "    correct_array = np.zeros((len(type_indices), len(df[\"label\"].unique())))\n",
    "    predictions_array = np.zeros((len(type_indices), len(df[\"label\"].unique())))\n",
    "    prob_array = [[] for i in range(len(type_indices))]\n",
    "    label_array_per_fitz = [[] for i in range(len(type_indices))]\n",
    "\n",
    "    labels_array_binary = np.zeros((2, len(df[\"label\"].unique())))\n",
    "    correct_array_binary = np.zeros((2, len(df[\"label\"].unique())))\n",
    "    predictions_array_binary = np.zeros((2, len(df[\"label\"].unique())))\n",
    "\n",
    "    positive_list = []  # get positive probability for binary classification\n",
    "    labels_ft0 = []\n",
    "    labels_ft1 = []\n",
    "    predictions_ft0 = []\n",
    "    predictions_ft1 = []\n",
    "\n",
    "    for i in range(df.shape[0]):\n",
    "        prediction = df.iloc[i][\"prediction\"]\n",
    "        label = df.iloc[i][\"label\"]\n",
    "        type = df.iloc[i][\"fitzpatrick\"]\n",
    "        type_binary = df.iloc[i][\"fitzpatrick_binary\"]\n",
    "\n",
    "        labels_array[int(type), int(label)] += 1\n",
    "        predictions_array[int(type), int(prediction)] += 1\n",
    "        if prediction == label:\n",
    "            correct_array[int(type), int(label)] += 1\n",
    "\n",
    "        labels_array_binary[int(type_binary), int(label)] += 1\n",
    "        predictions_array_binary[int(type_binary), int(prediction)] += 1\n",
    "        if prediction == label:\n",
    "            correct_array_binary[int(type_binary), int(label)] += 1\n",
    "\n",
    "        if is_binaryCLF:\n",
    "            prob_array[int(type)].append(df.iloc[i][\"prediction_probability\"])\n",
    "            label_array_per_fitz[int(type)].append(label)\n",
    "            if prediction == 0:\n",
    "                positive_list.append(1.0 - df.iloc[i][\"prediction_probability\"])\n",
    "            else:\n",
    "                positive_list.append(df.iloc[i][\"prediction_probability\"])\n",
    "\n",
    "        if type_binary == 0:\n",
    "            labels_ft0.append(label)\n",
    "            predictions_ft0.append(prediction)\n",
    "        else:\n",
    "            labels_ft1.append(label)\n",
    "            predictions_ft1.append(prediction)\n",
    "\n",
    "    correct_array = correct_array[type_indices]\n",
    "    labels_array = labels_array[type_indices]\n",
    "    predictions_array = predictions_array[type_indices]\n",
    "\n",
    "    # Accuracy, accuracy per type\n",
    "    Accuracy = accuracy_score(df[\"label\"], df[\"prediction\"]) * 100\n",
    "\n",
    "    acc_array = []\n",
    "    for i in range(len(type_indices)):\n",
    "        acc_array.append(\n",
    "            accuracy_score(\n",
    "                df[df[\"fitzpatrick\"] == i][\"label\"],\n",
    "                df[df[\"fitzpatrick\"] == i][\"prediction\"],\n",
    "            )\n",
    "            * 100\n",
    "        )\n",
    "    acc_array = np.array(acc_array)\n",
    "\n",
    "    # f1_score, f1-score per type (Weighted average)\n",
    "    F1_W = f1_score(df[\"label\"], df[\"prediction\"], average=\"weighted\") * 100\n",
    "\n",
    "    F1_W_array = []\n",
    "    for i in range(len(type_indices)):\n",
    "        F1_W_array.append(\n",
    "            f1_score(\n",
    "                df[df[\"fitzpatrick\"] == i][\"label\"],\n",
    "                df[df[\"fitzpatrick\"] == i][\"prediction\"],\n",
    "                average=\"weighted\",\n",
    "            )\n",
    "            * 100\n",
    "        )\n",
    "    F1_W_array = np.array(F1_W_array)\n",
    "\n",
    "    # f1_score, f1-score per type (Macro average)\n",
    "    F1_Mac = f1_score(df[\"label\"], df[\"prediction\"], average=\"macro\") * 100\n",
    "\n",
    "    F1_Mac_array = []\n",
    "    for i in range(len(type_indices)):\n",
    "        F1_Mac_array.append(\n",
    "            f1_score(\n",
    "                df[df[\"fitzpatrick\"] == i][\"label\"],\n",
    "                df[df[\"fitzpatrick\"] == i][\"prediction\"],\n",
    "                average=\"macro\",\n",
    "            )\n",
    "            * 100\n",
    "        )\n",
    "    F1_Mac_array = np.array(F1_Mac_array)\n",
    "\n",
    "    # PQD\n",
    "    PQD = acc_array.min() / acc_array.max()\n",
    "\n",
    "    # DPM\n",
    "    demo_array = predictions_array / np.sum(predictions_array, axis=1, keepdims=True)\n",
    "    DPM = np.mean(demo_array.min(axis=0) / demo_array.max(axis=0))\n",
    "\n",
    "    # EOM\n",
    "    eo_array = correct_array / labels_array\n",
    "    EOM = np.mean(np.nanmin(eo_array, axis=0) / np.nanmax(eo_array, axis=0))\n",
    "\n",
    "    # NAR\n",
    "    NAR = (acc_array.max() - acc_array.min()) / acc_array.mean()\n",
    "\n",
    "    # NFR (Weighted)\n",
    "    NFR_W = (F1_W_array.max() - F1_W_array.min()) / F1_W_array.mean()\n",
    "\n",
    "    # NAR (Macro)\n",
    "    NFR_Mac = (F1_Mac_array.max() - F1_Mac_array.min()) / F1_Mac_array.mean()\n",
    "\n",
    "    # AUC\n",
    "    if is_binaryCLF:\n",
    "        # AUC per skin type\n",
    "        AUC = roc_auc_score(df[\"label\"], df[\"prediction_probability\"]) * 100\n",
    "        AUC_per_type = []\n",
    "        for i in range(len(label_array_per_fitz)):\n",
    "            try:\n",
    "                AUC_per_type.append(\n",
    "                    roc_auc_score(label_array_per_fitz[i], prob_array[i]) * 100\n",
    "                )\n",
    "            except:\n",
    "                AUC_per_type.append(np.nan)\n",
    "        AUC_Gap = max(AUC_per_type) - min(AUC_per_type)\n",
    "    else:\n",
    "        AUC = -1\n",
    "        AUC_per_type = [-1] * len(type_indices)\n",
    "        AUC_Gap = -1\n",
    "\n",
    "    ##############################          Metrics with binary Sensative attribute         ##############################\n",
    "\n",
    "    correct_array_binary = correct_array_binary[type_indices_binary]\n",
    "    labels_array_binary = labels_array_binary[type_indices_binary]\n",
    "    predictions_array_binary = predictions_array_binary[type_indices_binary]\n",
    "\n",
    "    # avg acc, acc per type\n",
    "    correct_array_sumc_binary, labels_array_sumc_binary = np.sum(\n",
    "        correct_array_binary, axis=1\n",
    "    ), np.sum(\n",
    "        labels_array_binary, axis=1\n",
    "    )  # sum skin conditions\n",
    "    acc_array_binary = correct_array_sumc_binary / labels_array_sumc_binary\n",
    "    avg_acc_binary = (np.sum(correct_array_binary) / np.sum(labels_array_binary)) * 100\n",
    "\n",
    "    # PQD\n",
    "    PQD_binary = acc_array_binary.min() / acc_array_binary.max()\n",
    "\n",
    "    # DPM\n",
    "    demo_array_binary = predictions_array_binary / np.sum(\n",
    "        predictions_array_binary, axis=1, keepdims=True\n",
    "    )\n",
    "    DPM_binary = np.mean(demo_array_binary.min(axis=0) / demo_array_binary.max(axis=0))\n",
    "\n",
    "    # EOM\n",
    "    eo_array_binary = correct_array_binary / labels_array_binary\n",
    "    EOM_binary = np.mean(\n",
    "        np.nanmin(eo_array_binary, axis=0) / np.nanmax(eo_array_binary, axis=0)\n",
    "    )\n",
    "\n",
    "    # getting class-wise TPR, FPR, TNR for fitzpatrick 0\n",
    "    conf_matrix_fitz0 = confusion_matrix(labels_ft0, predictions_ft0)\n",
    "\n",
    "    # Initialize lists to store TPR, TNR, FPR for each class\n",
    "    class_tpr_fitz0 = []\n",
    "    class_tnr_fitz0 = []\n",
    "    class_fpr_fitz0 = []\n",
    "\n",
    "    for i in range(len(conf_matrix_fitz0)):\n",
    "        # Calculate TPR for class i\n",
    "        tpr = conf_matrix_fitz0[i, i] / sum(conf_matrix_fitz0[i, :])\n",
    "        class_tpr_fitz0.append(tpr)\n",
    "\n",
    "        # Calculate TNR for class i\n",
    "        tn = (\n",
    "            sum(sum(conf_matrix_fitz0))\n",
    "            - sum(conf_matrix_fitz0[i, :])\n",
    "            - sum(conf_matrix_fitz0[:, i])\n",
    "            + conf_matrix_fitz0[i, i]\n",
    "        )\n",
    "        fp = sum(conf_matrix_fitz0[:, i]) - conf_matrix_fitz0[i, i]\n",
    "        fn = sum(conf_matrix_fitz0[i, :]) - conf_matrix_fitz0[i, i]\n",
    "        tnr = tn / (tn + fp)\n",
    "        class_tnr_fitz0.append(tnr)\n",
    "\n",
    "        # Calculate FPR for class i\n",
    "        fpr = 1 - tnr\n",
    "        class_fpr_fitz0.append(fpr)\n",
    "\n",
    "    # getting class-wise TPR, FPR, TNR for fitzpatrick 1\n",
    "\n",
    "    conf_matrix_fitz1 = confusion_matrix(labels_ft1, predictions_ft1)\n",
    "    \n",
    "    # Check if there is any class that is not in both subgroups to handle it\n",
    "    try:\n",
    "        class_idx = (set(df[df['fitzpatrick_binary'] == 0]['label'].unique()) - set(df[df['fitzpatrick_binary'] == 1]['label'].unique())).pop()\n",
    "        conf_matrix_fitz1 = np.insert(conf_matrix_fitz1, class_idx, 0, axis=1)\n",
    "        conf_matrix_fitz1 = np.insert(conf_matrix_fitz1, class_idx, 0, axis=0)\n",
    "        print(f\"INFO: class {class_idx} is not in both binary subgroups\")\n",
    "    except:\n",
    "        class_idx = None\n",
    "\n",
    "    # Initialize lists to store TPR, TNR, FPR for each class\n",
    "    class_tpr_fitz1 = []\n",
    "    class_tnr_fitz1 = []\n",
    "    class_fpr_fitz1 = []\n",
    "\n",
    "    for i in range(len(conf_matrix_fitz1)):\n",
    "        # Calculate TPR for class i\n",
    "        tpr = conf_matrix_fitz1[i, i] / sum(conf_matrix_fitz1[i, :])\n",
    "        class_tpr_fitz1.append(tpr)\n",
    "\n",
    "        # Calculate TNR for class i\n",
    "        tn = (\n",
    "            sum(sum(conf_matrix_fitz1))\n",
    "            - sum(conf_matrix_fitz1[i, :])\n",
    "            - sum(conf_matrix_fitz1[:, i])\n",
    "            + conf_matrix_fitz1[i, i]\n",
    "        )\n",
    "        fp = sum(conf_matrix_fitz1[:, i]) - conf_matrix_fitz1[i, i]\n",
    "        fn = sum(conf_matrix_fitz1[i, :]) - conf_matrix_fitz1[i, i]\n",
    "        tnr = tn / (tn + fp)\n",
    "        class_tnr_fitz1.append(tnr)\n",
    "\n",
    "        # Calculate FPR for class i\n",
    "        fpr = 1 - tnr\n",
    "        class_fpr_fitz1.append(fpr)\n",
    "\n",
    "    if class_idx is not None:\n",
    "        class_tpr_fitz1[class_idx] = np.nan\n",
    "        class_tnr_fitz1[class_idx] = np.nan\n",
    "        class_fpr_fitz1[class_idx] = np.nan\n",
    "    \n",
    "    # EOpp0\n",
    "    EOpp0 = 0\n",
    "    for c in range(len(class_tnr_fitz0)):\n",
    "        val = abs(class_tnr_fitz1[c] - class_tnr_fitz0[c])\n",
    "        if not np.isnan(val):\n",
    "            EOpp0 += val\n",
    "\n",
    "    # EOpp1\n",
    "    EOpp1 = 0\n",
    "    for c in range(len(class_tpr_fitz0)):\n",
    "        val = abs(class_tpr_fitz1[c] - class_tpr_fitz0[c])\n",
    "        if not np.isnan(val):\n",
    "            EOpp1 += val\n",
    "\n",
    "    # EOdd\n",
    "    EOdd = 0\n",
    "    for c in range(len(class_tpr_fitz0)):\n",
    "        val = abs(\n",
    "            class_tpr_fitz1[c]\n",
    "            - class_tpr_fitz0[c]\n",
    "            + class_fpr_fitz1[c]\n",
    "            - class_fpr_fitz0[c]\n",
    "        )\n",
    "        if not np.isnan(val):\n",
    "            EOdd += val\n",
    "\n",
    "    # NAR\n",
    "    NAR_binary = (\n",
    "        acc_array_binary.max() - acc_array_binary.min()\n",
    "    ) / acc_array_binary.mean()\n",
    "\n",
    "    return {\n",
    "        \"accuracy\": Accuracy,\n",
    "        \"acc_per_type\": acc_array,\n",
    "        \"acc_gap\": acc_array.max() - acc_array.min(),\n",
    "        \"F1_W\": F1_W,\n",
    "        \"F1_per_type_W\": F1_W_array,\n",
    "        \"F1_W_gap\": max(F1_W_array) - min(F1_W_array),\n",
    "        \"F1_Mac\": F1_Mac,\n",
    "        \"F1_per_type_Mac\": F1_Mac_array,\n",
    "        \"F1_Mac_gap\": max(F1_Mac_array) - min(F1_Mac_array),\n",
    "        \"Worst_F1_Mac\": min(F1_Mac_array),\n",
    "        \"PQD\": PQD,\n",
    "        \"DPM\": DPM,\n",
    "        \"EOM\": EOM,\n",
    "        \"EOpp0\": EOpp0,\n",
    "        \"EOpp1\": EOpp1,\n",
    "        \"EOdd\": EOdd,\n",
    "        \"NAR\": NAR,\n",
    "        \"NFR_W\": NFR_W,\n",
    "        \"NFR_Mac\": NFR_Mac,\n",
    "        \"AUC\": AUC,\n",
    "        \"AUC_per_type\": AUC_per_type,\n",
    "        \"AUC_Gap\": AUC_Gap,\n",
    "        \"AUC_min\": min(AUC_per_type),\n",
    "        \"acc_avg_binary\": avg_acc_binary,\n",
    "        \"acc_per_type_binary\": acc_array_binary,\n",
    "        \"PQD_binary\": PQD_binary,\n",
    "        \"DPM_binary\": DPM_binary,\n",
    "        \"EOM_binary\": EOM_binary,\n",
    "        \"NAR_binary\": NAR_binary,\n",
    "    }"
   ]
  },
  {
   "cell_type": "markdown",
   "metadata": {},
   "source": [
    "# Fitzpatrick17k"
   ]
  },
  {
   "cell_type": "markdown",
   "metadata": {},
   "source": [
    "## Baseline"
   ]
  },
  {
   "cell_type": "code",
   "execution_count": 61,
   "metadata": {},
   "outputs": [
    {
     "data": {
      "text/plain": [
       "{'accuracy': 86.16921635966281,\n",
       " 'acc_per_type': array([83.94648829, 84.39869989, 85.90116279, 89.66725044, 90.93851133,\n",
       "        83.33333333]),\n",
       " 'acc_gap': 7.605177993527491,\n",
       " 'F1_W': 85.57893397463474,\n",
       " 'F1_per_type_W': array([83.40888099, 83.78928604, 85.37177898, 89.01159925, 90.69159775,\n",
       "        79.75499454]),\n",
       " 'F1_W_gap': 10.936603202838214,\n",
       " 'F1_Mac': 76.062091572557,\n",
       " 'F1_per_type_Mac': array([75.65462165, 75.15406073, 75.42657695, 79.19319497, 81.97530864,\n",
       "        58.58452951]),\n",
       " 'F1_Mac_gap': 23.390779136393164,\n",
       " 'PQD': 0.916370106761566,\n",
       " 'DPM': 0.5278897673948356,\n",
       " 'EOM': 0.6284678839710286,\n",
       " 'EOpp0': 0.09241948268945266,\n",
       " 'EOpp1': 0.13334040160654603,\n",
       " 'EOdd': 0.19503690128792983,\n",
       " 'NAR': 0.08805933919376732,\n",
       " 'NFR_W': 0.12815627580814173,\n",
       " 'NFR_Mac': 0.31468241923335377,\n",
       " 'AUC': -1,\n",
       " 'AUC_per_type': [-1, -1, -1, -1, -1, -1],\n",
       " 'AUC_Gap': -1,\n",
       " 'AUC_min': -1,\n",
       " 'acc_avg_binary': 86.16921635966281,\n",
       " 'acc_per_type_binary': array([0.84744228, 0.89336016]),\n",
       " 'PQD_binary': 0.9486009323039654,\n",
       " 'DPM_binary': 0.743366066518016,\n",
       " 'EOM_binary': 0.9361077616382222,\n",
       " 'NAR_binary': 0.05275484255800076}"
      ]
     },
     "execution_count": 61,
     "metadata": {},
     "output_type": "execute_result"
    }
   ],
   "source": [
    "df = pd.read_csv('/home/ali/Outputs/Fitzpatrick17k/XTranPrune_baseline_High/validation_results_DiT_S_LRP_level=high_epoch=50_random_holdout.csv')\n",
    "cal_metrics(df=df)"
   ]
  },
  {
   "cell_type": "markdown",
   "metadata": {},
   "source": [
    "## XTranPrune"
   ]
  },
  {
   "cell_type": "code",
   "execution_count": 71,
   "metadata": {},
   "outputs": [
    {
     "data": {
      "text/plain": [
       "{'accuracy': 83.5778957227599,\n",
       " 'acc_per_type': array([79.93311037, 80.60671723, 85.75581395, 86.69001751, 88.67313916,\n",
       "        84.21052632]),\n",
       " 'acc_gap': 8.74002879068307,\n",
       " 'F1_W': 83.49406732013094,\n",
       " 'F1_per_type_W': array([79.91031618, 80.50059531, 85.72122342, 86.69789384, 88.60821315,\n",
       "        83.1857724 ]),\n",
       " 'F1_W_gap': 8.697896974789558,\n",
       " 'F1_Mac': 73.51666376323432,\n",
       " 'F1_per_type_Mac': array([71.79301841, 71.20580961, 76.18218871, 75.38646554, 77.57143114,\n",
       "        69.13388544]),\n",
       " 'F1_Mac_gap': 8.437545702891896,\n",
       " 'Worst_F1_Mac': 69.13388543823328,\n",
       " 'PQD': 0.901435441740107,\n",
       " 'DPM': 0.5860982649538039,\n",
       " 'EOM': 0.7904823727104895,\n",
       " 'EOpp0': 0.08661494220606414,\n",
       " 'EOpp1': 0.06606319519202164,\n",
       " 'EOdd': 0.09523437541022861,\n",
       " 'NAR': 0.1036634763182548,\n",
       " 'NFR_W': 0.10341834785825477,\n",
       " 'NFR_Mac': 0.11472557191333951,\n",
       " 'AUC': -1,\n",
       " 'AUC_per_type': [-1, -1, -1, -1, -1, -1],\n",
       " 'AUC_Gap': -1,\n",
       " 'AUC_min': -1,\n",
       " 'acc_avg_binary': 83.5778957227599,\n",
       " 'acc_per_type_binary': array([0.82028067, 0.87022133]),\n",
       " 'PQD_binary': 0.9426115444699431,\n",
       " 'DPM_binary': 0.7638200909075827,\n",
       " 'EOM_binary': 0.9712908115509767,\n",
       " 'NAR_binary': 0.05908382012186161}"
      ]
     },
     "execution_count": 71,
     "metadata": {},
     "output_type": "execute_result"
    }
   ],
   "source": [
    "df = pd.read_csv('/home/ali/Outputs/Fitzpatrick17k/Pruning/Main_0.8/PruningEXP33/validation_results_DeiT_S_LRP_PIter14_epoch=50_random_holdout.csv')\n",
    "cal_metrics(df=df)"
   ]
  },
  {
   "cell_type": "markdown",
   "metadata": {},
   "source": [
    "# Baseline - HIBA"
   ]
  },
  {
   "cell_type": "code",
   "execution_count": 6,
   "metadata": {},
   "outputs": [
    {
     "name": "stderr",
     "output_type": "stream",
     "text": [
      "/tmp/ipykernel_247801/2826213290.py:116: RuntimeWarning: invalid value encountered in divide\n",
      "  eo_array = correct_array / labels_array\n",
      "/tmp/ipykernel_247801/2826213290.py:171: RuntimeWarning: invalid value encountered in divide\n",
      "  eo_array_binary = correct_array_binary / labels_array_binary\n",
      "/tmp/ipykernel_247801/2826213290.py:228: RuntimeWarning: invalid value encountered in scalar divide\n",
      "  tnr = tn / (tn + fp)\n",
      "/tmp/ipykernel_247801/2826213290.py:216: RuntimeWarning: invalid value encountered in scalar divide\n",
      "  tpr = conf_matrix_fitz1[i, i] / sum(conf_matrix_fitz1[i, :])\n"
     ]
    },
    {
     "data": {
      "text/plain": [
       "{'accuracy': 85.66666666666667,\n",
       " 'acc_per_type': array([87.5       , 85.38812785, 86.79245283, 75.        ]),\n",
       " 'acc_gap': 12.5,\n",
       " 'F1_W': 85.6767054655683,\n",
       " 'F1_per_type_W': array([87.33396584, 85.36796933, 86.91742747, 85.71428571]),\n",
       " 'F1_W_gap': 1.9659965097861374,\n",
       " 'F1_Mac': 85.65885871196541,\n",
       " 'F1_per_type_Mac': array([86.33776091, 85.35117057, 84.04301075, 42.85714286]),\n",
       " 'F1_Mac_gap': 43.48061805367309,\n",
       " 'PQD': 0.8571428571428571,\n",
       " 'DPM': 0.4097222222222222,\n",
       " 'EOM': 0.8476890756302522,\n",
       " 'EOpp0': 0.08766233766233766,\n",
       " 'EOpp1': 0.08766233766233766,\n",
       " 'EOdd': 0,\n",
       " 'NAR': 0.14939617918016804,\n",
       " 'NFR_W': 0.022772139571147803,\n",
       " 'NFR_Mac': 0.5824810111954692,\n",
       " 'AUC': 91.83455161347834,\n",
       " 'AUC_per_type': [94.07407407407409,\n",
       "  90.95460614152204,\n",
       "  92.63157894736842,\n",
       "  nan],\n",
       " 'AUC_Gap': 3.1194679325520553,\n",
       " 'AUC_min': 90.95460614152204,\n",
       " 'acc_avg_binary': 85.66666666666667,\n",
       " 'acc_per_type_binary': array([0.85810811, 0.75      ]),\n",
       " 'PQD_binary': 0.8740157480314961,\n",
       " 'DPM_binary': 0.5754954954954955,\n",
       " 'EOM_binary': 0.9476744186046512,\n",
       " 'NAR_binary': 0.13445378151260504}"
      ]
     },
     "execution_count": 6,
     "metadata": {},
     "output_type": "execute_result"
    }
   ],
   "source": [
    "df = pd.read_csv('/home/ali/Outputs/HIBA/XTranPrune_baseline_Binary/validation_results_DiT_S_LRP_level=binary_epoch=50_random_holdout.csv')\n",
    "cal_metrics(df=df)"
   ]
  },
  {
   "cell_type": "markdown",
   "metadata": {},
   "source": []
  },
  {
   "cell_type": "markdown",
   "metadata": {},
   "source": [
    "# Baseline - PAD-UFES-20"
   ]
  },
  {
   "cell_type": "code",
   "execution_count": 94,
   "metadata": {},
   "outputs": [
    {
     "name": "stdout",
     "output_type": "stream",
     "text": [
      "INFO: class 2 is not in both binary subgroups\n"
     ]
    },
    {
     "name": "stderr",
     "output_type": "stream",
     "text": [
      "/tmp/ipykernel_247801/2859028914.py:116: RuntimeWarning: invalid value encountered in divide\n",
      "  eo_array = correct_array / labels_array\n",
      "/tmp/ipykernel_247801/2859028914.py:171: RuntimeWarning: invalid value encountered in divide\n",
      "  eo_array_binary = correct_array_binary / labels_array_binary\n",
      "/tmp/ipykernel_247801/2859028914.py:225: RuntimeWarning: invalid value encountered in scalar divide\n",
      "  tpr = conf_matrix_fitz1[i, i] / sum(conf_matrix_fitz1[i, :])\n"
     ]
    },
    {
     "data": {
      "text/plain": [
       "{'accuracy': 66.22073578595318,\n",
       " 'acc_per_type': array([ 68.96551724,  61.01694915,  72.97297297,  83.33333333,\n",
       "        100.        ]),\n",
       " 'acc_gap': 38.983050847457626,\n",
       " 'F1_W': 67.22827227129834,\n",
       " 'F1_per_type_W': array([ 69.87983281,  62.72280974,  72.95562572,  84.03880071,\n",
       "        100.        ]),\n",
       " 'F1_W_gap': 37.27719026033031,\n",
       " 'F1_Mac': 62.895744610129825,\n",
       " 'F1_per_type_Mac': array([ 60.3219697 ,  55.84299982,  74.63985166,  81.58730159,\n",
       "        100.        ]),\n",
       " 'F1_Mac_gap': 44.157000176066404,\n",
       " 'Worst_F1_Mac': 55.842999823933596,\n",
       " 'PQD': 0.6101694915254238,\n",
       " 'DPM': 0.009259259259259259,\n",
       " 'EOM': 0.5622301445830857,\n",
       " 'EOpp0': 0.4939087859850173,\n",
       " 'EOpp1': 1.504948692485932,\n",
       " 'EOdd': 1.3459118783119046,\n",
       " 'NAR': 0.5045843110448057,\n",
       " 'NFR_W': 0.47840696490262474,\n",
       " 'NFR_Mac': 0.5928831126666089,\n",
       " 'AUC': -1,\n",
       " 'AUC_per_type': [-1, -1, -1, -1, -1],\n",
       " 'AUC_Gap': -1,\n",
       " 'AUC_min': -1,\n",
       " 'acc_avg_binary': 66.22073578595318,\n",
       " 'acc_per_type_binary': array([0.65      , 0.84210526]),\n",
       " 'PQD_binary': 0.7718750000000001,\n",
       " 'DPM_binary': 0.41339831678481803,\n",
       " 'EOM_binary': 0.7401605428666005,\n",
       " 'NAR_binary': 0.2574955908289241}"
      ]
     },
     "execution_count": 94,
     "metadata": {},
     "output_type": "execute_result"
    }
   ],
   "source": [
    "df = pd.read_csv('/home/ali/Outputs/PAD-UFES-20/XTranPrune_baseline_low/validation_results_DiT_S_LRP_level=low_epoch=50_random_holdout.csv')\n",
    "cal_metrics(df=df)"
   ]
  },
  {
   "cell_type": "markdown",
   "metadata": {},
   "source": [
    "# Ablation Study"
   ]
  },
  {
   "cell_type": "markdown",
   "metadata": {},
   "source": [
    "## Retain Rate"
   ]
  },
  {
   "cell_type": "code",
   "execution_count": 131,
   "metadata": {},
   "outputs": [
    {
     "data": {
      "text/html": [
       "<div>\n",
       "<style scoped>\n",
       "    .dataframe tbody tr th:only-of-type {\n",
       "        vertical-align: middle;\n",
       "    }\n",
       "\n",
       "    .dataframe tbody tr th {\n",
       "        vertical-align: top;\n",
       "    }\n",
       "\n",
       "    .dataframe thead th {\n",
       "        text-align: right;\n",
       "    }\n",
       "</style>\n",
       "<table border=\"1\" class=\"dataframe\">\n",
       "  <thead>\n",
       "    <tr style=\"text-align: right;\">\n",
       "      <th></th>\n",
       "      <th>Retain Rate</th>\n",
       "      <th>EOM</th>\n",
       "      <th>EOdd</th>\n",
       "      <th>F1 score</th>\n",
       "    </tr>\n",
       "  </thead>\n",
       "  <tbody>\n",
       "    <tr>\n",
       "      <th>0</th>\n",
       "      <td>0.4</td>\n",
       "      <td>0.780</td>\n",
       "      <td>0.255</td>\n",
       "      <td>0.571</td>\n",
       "    </tr>\n",
       "    <tr>\n",
       "      <th>1</th>\n",
       "      <td>0.5</td>\n",
       "      <td>0.760</td>\n",
       "      <td>0.128</td>\n",
       "      <td>0.637</td>\n",
       "    </tr>\n",
       "    <tr>\n",
       "      <th>2</th>\n",
       "      <td>0.6</td>\n",
       "      <td>0.799</td>\n",
       "      <td>0.108</td>\n",
       "      <td>0.656</td>\n",
       "    </tr>\n",
       "    <tr>\n",
       "      <th>3</th>\n",
       "      <td>0.7</td>\n",
       "      <td>0.775</td>\n",
       "      <td>0.115</td>\n",
       "      <td>0.710</td>\n",
       "    </tr>\n",
       "    <tr>\n",
       "      <th>4</th>\n",
       "      <td>0.8</td>\n",
       "      <td>0.701</td>\n",
       "      <td>0.137</td>\n",
       "      <td>0.750</td>\n",
       "    </tr>\n",
       "    <tr>\n",
       "      <th>5</th>\n",
       "      <td>0.9</td>\n",
       "      <td>0.671</td>\n",
       "      <td>0.152</td>\n",
       "      <td>0.762</td>\n",
       "    </tr>\n",
       "  </tbody>\n",
       "</table>\n",
       "</div>"
      ],
      "text/plain": [
       "   Retain Rate    EOM   EOdd  F1 score\n",
       "0          0.4  0.780  0.255     0.571\n",
       "1          0.5  0.760  0.128     0.637\n",
       "2          0.6  0.799  0.108     0.656\n",
       "3          0.7  0.775  0.115     0.710\n",
       "4          0.8  0.701  0.137     0.750\n",
       "5          0.9  0.671  0.152     0.762"
      ]
     },
     "execution_count": 131,
     "metadata": {},
     "output_type": "execute_result"
    }
   ],
   "source": [
    "data = {\n",
    "    'Retain Rate': [0.4, 0.5, 0.6, 0.7, 0.8, 0.9],\n",
    "    'EOM': [0.780, 0.760, 0.799, 0.775, 0.701, 0.671],\n",
    "    'EOdd': [0.255, 0.128, 0.108, 0.115, 0.137, 0.152],\n",
    "    'F1 score': [0.571, 0.637, 0.656, 0.710, 0.758, 0.762]\n",
    "}\n",
    "# [57.1, 63.7, 65.6, 71.0, 75.0, 76.2]\n",
    "# [0.571, 0.637, 0.656, 0.710, 0.750, 0.762]\n",
    "df = pd.DataFrame(data)\n",
    "df"
   ]
  },
  {
   "cell_type": "code",
   "execution_count": 140,
   "metadata": {},
   "outputs": [
    {
     "data": {
      "text/plain": [
       "<matplotlib.legend.Legend at 0x7fa97622e090>"
      ]
     },
     "execution_count": 140,
     "metadata": {},
     "output_type": "execute_result"
    },
    {
     "data": {
      "image/png": "[encoded data removed]",
      "text/plain": [
       "<Figure size 500x300 with 1 Axes>"
      ]
     },
     "metadata": {},
     "output_type": "display_data"
    }
   ],
   "source": [
    "# Scatter plot with different symbols\n",
    "plt.figure(figsize=(5, 3))\n",
    "\n",
    "markers = ['o', 's', '^', 'D', 'v', 'p']  # Different markers for each point\n",
    "\n",
    "for i, rate in enumerate(df['Retain Rate']):\n",
    "    plt.scatter(df['EOM'][i], df['F1 score'][i], label=f'Retain Rate {rate}', s=100, marker=markers[i])\n",
    "\n",
    "# Draw lines for baseline model values\n",
    "plt.axhline(y=0.760, color='r', linestyle='--', label='Baseline F1 score')\n",
    "plt.axvline(x=0.628, color='b', linestyle='--', label='Baseline EOM')\n",
    "\n",
    "# Highlight area with higher EOM and F1 score\n",
    "# plt.fill_betweenx(y=np.linspace(0.75, 0.8, 100), x1=0.628, x2=1, color='yellow', alpha=0.3, label='Highlighted Area')\n",
    "# Adding labels and legend\n",
    "plt.xlabel('EOM')\n",
    "plt.ylabel('F1 score')\n",
    "plt.legend()"
   ]
  },
  {
   "cell_type": "code",
   "execution_count": 130,
   "metadata": {},
   "outputs": [
    {
     "data": {
      "image/png": "[encoded data removed]",
      "text/plain": [
       "<Figure size 500x300 with 1 Axes>"
      ]
     },
     "metadata": {},
     "output_type": "display_data"
    }
   ],
   "source": [
    "plt.figure(figsize=(5, 3))\n",
    "\n",
    "for metric in [\"EOM\", \"EOdd\", \"F1 score\"]:\n",
    "    plt.plot(df['Retain Rate'], df[metric], label=metric)\n",
    "    for i, txt in enumerate(df[metric]):\n",
    "        plt.annotate(\n",
    "            f\"{txt:.3f}\",\n",
    "            (df['Retain Rate'][i], df[metric][i]),\n",
    "            textcoords=\"offset points\",\n",
    "            xytext=(0, 5),\n",
    "            ha=\"center\",\n",
    "            fontsize=10,\n",
    "        )\n",
    "\n",
    "plt.xlabel(\"Retain Rate\", fontsize=10)\n",
    "# plt.ylabel(\"Metric Values\", fontsize=14)\n",
    "# plt.legend(loc=\"upper left\", bbox_to_anchor=(1, 1), fontsize=12)\n",
    "plt.legend(loc=\"center right\", fontsize=10)\n",
    "plt.xticks(df['Retain Rate'], fontsize=8)  # Set discrete values on the x-axis\n",
    "plt.yticks(fontsize=8)\n",
    "plt.grid(True)"
   ]
  },
  {
   "cell_type": "code",
   "execution_count": 163,
   "metadata": {},
   "outputs": [
    {
     "data": {
      "image/png": "[encoded data removed]",
      "text/plain": [
       "<Figure size 520x200 with 1 Axes>"
      ]
     },
     "metadata": {},
     "output_type": "display_data"
    }
   ],
   "source": [
    "data = {\n",
    "    'Retain Rate': [0.4, 0.45, 0.5, 0.55, 0.6, 0.65, 0.7, 0.75, 0.8, 0.85,0.9],\n",
    "    'F1 score': [0.571, 0.604, 0.637, 0.646, 0.656, 0.683, 0.710, 0.734, 0.758, .760, 0.762]\n",
    "}\n",
    "# [57.1, 63.7, 65.6, 71.0, 75.0, 76.2]\n",
    "# [0.571, 0.637, 0.656, 0.710, 0.750, 0.762]\n",
    "df = pd.DataFrame(data)\n",
    "plt.figure(figsize=(5.2, 2))\n",
    "\n",
    "plt.plot(df['Retain Rate'], df[\"F1 score\"], marker='o',label=metric)\n",
    "    \n",
    "    \n",
    "\n",
    "plt.xlabel(\"Retain Rate\", fontsize=12)\n",
    "# plt.ylabel(\"Metric Values\", fontsize=14)\n",
    "# plt.legend(loc=\"upper left\", bbox_to_anchor=(1, 1), fontsize=12)\n",
    "plt.legend(loc=\"center right\", fontsize=10)\n",
    "plt.xticks(df['Retain Rate'], fontsize=10)  # Set discrete values on the x-axis\n",
    "plt.yticks(fontsize=10)\n",
    "plt.grid(True)"
   ]
  },
  {
   "cell_type": "markdown",
   "metadata": {},
   "source": [
    "## Pruning Rate"
   ]
  },
  {
   "cell_type": "code",
   "execution_count": 172,
   "metadata": {},
   "outputs": [
    {
     "data": {
      "text/html": [
       "<div>\n",
       "<style scoped>\n",
       "    .dataframe tbody tr th:only-of-type {\n",
       "        vertical-align: middle;\n",
       "    }\n",
       "\n",
       "    .dataframe tbody tr th {\n",
       "        vertical-align: top;\n",
       "    }\n",
       "\n",
       "    .dataframe thead th {\n",
       "        text-align: right;\n",
       "    }\n",
       "</style>\n",
       "<table border=\"1\" class=\"dataframe\">\n",
       "  <thead>\n",
       "    <tr style=\"text-align: right;\">\n",
       "      <th></th>\n",
       "      <th>Pruning Rate</th>\n",
       "      <th>EOM</th>\n",
       "      <th>F1 score</th>\n",
       "    </tr>\n",
       "  </thead>\n",
       "  <tbody>\n",
       "    <tr>\n",
       "      <th>0</th>\n",
       "      <td>0.1</td>\n",
       "      <td>0.671</td>\n",
       "      <td>0.764</td>\n",
       "    </tr>\n",
       "    <tr>\n",
       "      <th>1</th>\n",
       "      <td>0.2</td>\n",
       "      <td>0.675</td>\n",
       "      <td>0.765</td>\n",
       "    </tr>\n",
       "    <tr>\n",
       "      <th>2</th>\n",
       "      <td>0.3</td>\n",
       "      <td>0.741</td>\n",
       "      <td>0.734</td>\n",
       "    </tr>\n",
       "    <tr>\n",
       "      <th>3</th>\n",
       "      <td>0.4</td>\n",
       "      <td>0.746</td>\n",
       "      <td>0.732</td>\n",
       "    </tr>\n",
       "    <tr>\n",
       "      <th>4</th>\n",
       "      <td>0.5</td>\n",
       "      <td>0.740</td>\n",
       "      <td>0.730</td>\n",
       "    </tr>\n",
       "    <tr>\n",
       "      <th>5</th>\n",
       "      <td>0.6</td>\n",
       "      <td>0.747</td>\n",
       "      <td>0.731</td>\n",
       "    </tr>\n",
       "    <tr>\n",
       "      <th>6</th>\n",
       "      <td>0.7</td>\n",
       "      <td>0.749</td>\n",
       "      <td>0.723</td>\n",
       "    </tr>\n",
       "    <tr>\n",
       "      <th>7</th>\n",
       "      <td>0.8</td>\n",
       "      <td>0.696</td>\n",
       "      <td>0.730</td>\n",
       "    </tr>\n",
       "    <tr>\n",
       "      <th>8</th>\n",
       "      <td>0.9</td>\n",
       "      <td>0.695</td>\n",
       "      <td>0.726</td>\n",
       "    </tr>\n",
       "  </tbody>\n",
       "</table>\n",
       "</div>"
      ],
      "text/plain": [
       "   Pruning Rate    EOM  F1 score\n",
       "0           0.1  0.671     0.764\n",
       "1           0.2  0.675     0.765\n",
       "2           0.3  0.741     0.734\n",
       "3           0.4  0.746     0.732\n",
       "4           0.5  0.740     0.730\n",
       "5           0.6  0.747     0.731\n",
       "6           0.7  0.749     0.723\n",
       "7           0.8  0.696     0.730\n",
       "8           0.9  0.695     0.726"
      ]
     },
     "execution_count": 172,
     "metadata": {},
     "output_type": "execute_result"
    }
   ],
   "source": [
    "data = {\n",
    "    'Pruning Rate': [0.1, 0.2, 0.3, 0.4, 0.5, 0.6, 0.7, 0.8, 0.9],\n",
    "    'EOM': [0.671, 0.675, 0.741, 0.746, 0.740, 0.747, 0.749, 0.696, 0.695],\n",
    "    'F1 score': [0.764, 0.765, 0.734, 0.732, 0.730, 0.731, 0.723, 0.730, 0.726]\n",
    "}\n",
    "\n",
    "df = pd.DataFrame(data)\n",
    "df"
   ]
  },
  {
   "cell_type": "code",
   "execution_count": 154,
   "metadata": {},
   "outputs": [
    {
     "data": {
      "text/plain": [
       "<matplotlib.legend.Legend at 0x7fa975c62350>"
      ]
     },
     "execution_count": 154,
     "metadata": {},
     "output_type": "execute_result"
    },
    {
     "data": {
      "image/png": "[encoded data removed]",
      "text/plain": [
       "<Figure size 500x300 with 1 Axes>"
      ]
     },
     "metadata": {},
     "output_type": "display_data"
    }
   ],
   "source": [
    "# Scatter plot with different symbols\n",
    "plt.figure(figsize=(5, 3))\n",
    "\n",
    "markers = ['o', 's', '^', 'D', 'v', 'p']  # Different markers for each point\n",
    "\n",
    "for i, rate in enumerate(df['Pruning Rate']):\n",
    "    plt.scatter(df['EOM'][i], df['F1 score'][i], label=f'Pruning Rate {rate}', s=100, marker=markers[i])\n",
    "\n",
    "# Draw lines for baseline model values\n",
    "plt.axhline(y=0.760, color='r', linestyle='--', label='Baseline F1 score')\n",
    "\n",
    "# Highlight area with higher EOM and F1 score\n",
    "# plt.fill_betweenx(y=np.linspace(0.75, 0.8, 100), x1=0.628, x2=1, color='yellow', alpha=0.3, label='Highlighted Area')\n",
    "# Adding labels and legend\n",
    "plt.xlabel('EOM')\n",
    "plt.ylabel('F1 score')\n",
    "plt.legend(loc=\"lower left\", fontsize=10)"
   ]
  },
  {
   "cell_type": "code",
   "execution_count": 176,
   "metadata": {},
   "outputs": [
    {
     "data": {
      "image/png": "[encoded data removed]",
      "text/plain": [
       "<Figure size 400x200 with 1 Axes>"
      ]
     },
     "metadata": {},
     "output_type": "display_data"
    }
   ],
   "source": [
    "plt.figure(figsize=(4, 2))\n",
    "\n",
    "for metric in [\"EOM\", \"F1 score\"]:\n",
    "    plt.plot(df['Pruning Rate'], df[metric], marker='o',label=metric)\n",
    "    # for i, txt in enumerate(df[metric]):\n",
    "    #     plt.annotate(\n",
    "    #         f\"{txt:.3f}\",\n",
    "    #         (df['Pruning Rate'][i], df[metric][i]),\n",
    "    #         textcoords=\"offset points\",\n",
    "    #         xytext=(0, 5),\n",
    "    #         ha=\"center\",\n",
    "    #         fontsize=10,\n",
    "    #     )\n",
    "\n",
    "plt.xlabel(\"Pruning Rate\", fontsize=10)\n",
    "# plt.ylabel(\"Metric Values\", fontsize=14)\n",
    "# plt.legend(loc=\"upper left\", bbox_to_anchor=(1, 1), fontsize=12)\n",
    "plt.legend(loc=\"lower center\", fontsize=10)\n",
    "plt.xticks(df['Pruning Rate'], fontsize=8)  # Set discrete values on the x-axis\n",
    "plt.yticks(fontsize=8)\n",
    "plt.grid(True)"
   ]
  },
  {
   "cell_type": "markdown",
   "metadata": {},
   "source": [
    "## Num Batch"
   ]
  },
  {
   "cell_type": "code",
   "execution_count": 177,
   "metadata": {},
   "outputs": [
    {
     "data": {
      "text/html": [
       "<div>\n",
       "<style scoped>\n",
       "    .dataframe tbody tr th:only-of-type {\n",
       "        vertical-align: middle;\n",
       "    }\n",
       "\n",
       "    .dataframe tbody tr th {\n",
       "        vertical-align: top;\n",
       "    }\n",
       "\n",
       "    .dataframe thead th {\n",
       "        text-align: right;\n",
       "    }\n",
       "</style>\n",
       "<table border=\"1\" class=\"dataframe\">\n",
       "  <thead>\n",
       "    <tr style=\"text-align: right;\">\n",
       "      <th></th>\n",
       "      <th>Num Batch</th>\n",
       "      <th>EOM</th>\n",
       "      <th>F1 score</th>\n",
       "    </tr>\n",
       "  </thead>\n",
       "  <tbody>\n",
       "    <tr>\n",
       "      <th>0</th>\n",
       "      <td>100</td>\n",
       "      <td>0.790</td>\n",
       "      <td>0.730</td>\n",
       "    </tr>\n",
       "    <tr>\n",
       "      <th>1</th>\n",
       "      <td>300</td>\n",
       "      <td>0.784</td>\n",
       "      <td>0.737</td>\n",
       "    </tr>\n",
       "    <tr>\n",
       "      <th>2</th>\n",
       "      <td>500</td>\n",
       "      <td>0.790</td>\n",
       "      <td>0.735</td>\n",
       "    </tr>\n",
       "    <tr>\n",
       "      <th>3</th>\n",
       "      <td>700</td>\n",
       "      <td>0.753</td>\n",
       "      <td>0.738</td>\n",
       "    </tr>\n",
       "    <tr>\n",
       "      <th>4</th>\n",
       "      <td>900</td>\n",
       "      <td>0.755</td>\n",
       "      <td>0.738</td>\n",
       "    </tr>\n",
       "    <tr>\n",
       "      <th>5</th>\n",
       "      <td>1000</td>\n",
       "      <td>0.706</td>\n",
       "      <td>0.741</td>\n",
       "    </tr>\n",
       "  </tbody>\n",
       "</table>\n",
       "</div>"
      ],
      "text/plain": [
       "   Num Batch    EOM  F1 score\n",
       "0        100  0.790     0.730\n",
       "1        300  0.784     0.737\n",
       "2        500  0.790     0.735\n",
       "3        700  0.753     0.738\n",
       "4        900  0.755     0.738\n",
       "5       1000  0.706     0.741"
      ]
     },
     "execution_count": 177,
     "metadata": {},
     "output_type": "execute_result"
    }
   ],
   "source": [
    "data = {\n",
    "    'Num Batch': [100, 300, 500, 700, 900, 1000],\n",
    "    'EOM': [0.790, 0.784, 0.790, 0.753, 0.755, 0.706],\n",
    "    'F1 score': [0.730, 0.737, 0.735, 0.738, 0.738, 0.741]\n",
    "}\n",
    "\n",
    "df = pd.DataFrame(data)\n",
    "df"
   ]
  },
  {
   "cell_type": "code",
   "execution_count": 184,
   "metadata": {},
   "outputs": [
    {
     "data": {
      "image/png": "[encoded data removed]",
      "text/plain": [
       "<Figure size 400x230 with 1 Axes>"
      ]
     },
     "metadata": {},
     "output_type": "display_data"
    }
   ],
   "source": [
    "plt.figure(figsize=(4, 2.3))\n",
    "\n",
    "for metric in [\"EOM\", \"F1 score\"]:\n",
    "    plt.plot(df['Num Batch'], df[metric], marker='o',label=metric)\n",
    "\n",
    "plt.xlabel(\"Num Batch\", fontsize=10)\n",
    "plt.legend(loc=\"lower center\", fontsize=10)\n",
    "plt.xticks(df['Num Batch'], fontsize=8)  # Set discrete values on the x-axis\n",
    "plt.yticks(fontsize=8)\n",
    "plt.grid(True)"
   ]
  },
  {
   "cell_type": "markdown",
   "metadata": {},
   "source": []
  },
  {
   "cell_type": "code",
   "execution_count": null,
   "metadata": {},
   "outputs": [],
   "source": []
  },
  {
   "cell_type": "markdown",
   "metadata": {},
   "source": [
    "# FairME"
   ]
  },
  {
   "cell_type": "code",
   "execution_count": 67,
   "metadata": {},
   "outputs": [
    {
     "data": {
      "text/plain": [
       "{'accuracy': 84.3896347174524,\n",
       " 'acc_per_type': array([82.10702341, 81.14842904, 85.90116279, 88.26619965, 88.34951456,\n",
       "        83.33333333]),\n",
       " 'acc_gap': 7.201085527353811,\n",
       " 'F1_W': 83.79698686438083,\n",
       " 'F1_per_type_W': array([81.53662703, 80.28385514, 85.41788345, 87.81107499, 88.29674461,\n",
       "        80.78498686]),\n",
       " 'F1_W_gap': 8.012889463850755,\n",
       " 'F1_Mac': 73.41447403109328,\n",
       " 'F1_per_type_Mac': array([73.10886533, 69.71596197, 75.41725642, 77.25383431, 77.53727754,\n",
       "        61.79167562]),\n",
       " 'F1_Mac_gap': 15.745601915814682,\n",
       " 'PQD': 0.918493207767314,\n",
       " 'DPM': 0.5814818703985271,\n",
       " 'EOM': 0.6718756840785239,\n",
       " 'EOpp0': 0.03545556328320365,\n",
       " 'EOpp1': 0.11998013005156838,\n",
       " 'EOdd': 0.12317334672794966,\n",
       " 'NAR': 0.08486747707313225,\n",
       " 'NFR_W': 0.09536672089516343,\n",
       " 'NFR_Mac': 0.2172681871619068,\n",
       " 'AUC': -1,\n",
       " 'AUC_per_type': [-1, -1, -1, -1, -1, -1],\n",
       " 'AUC_Gap': -1,\n",
       " 'AUC_min': -1,\n",
       " 'acc_avg_binary': 84.3896347174524,\n",
       " 'acc_per_type_binary': array([0.82888185, 0.87726358]),\n",
       " 'PQD_binary': 0.9448492613619845,\n",
       " 'DPM_binary': 0.8096990443127261,\n",
       " 'EOM_binary': 0.9468571626511735,\n",
       " 'NAR_binary': 0.05671466651291343}"
      ]
     },
     "execution_count": 67,
     "metadata": {},
     "output_type": "execute_result"
    }
   ],
   "source": [
    "df = pd.read_csv(\"/home/ali/Repos/Fair-Multi-Exit-Framework/outputs/train_me_resnet18_FITZ_test/Epoch135/df_pred_thresh=0.99.csv\")\n",
    "cal_metrics(df=df)\n"
   ]
  },
  {
   "cell_type": "code",
   "execution_count": null,
   "metadata": {},
   "outputs": [],
   "source": []
  }
 ],
 "metadata": {
  "interpreter": {
   "hash": "d7d995bc54c9aaecfe64e6668cd10ce18771211a7298b34b6f0fab6698bea7d7"
  },
  "kernelspec": {
   "display_name": "Python 3.8.12 ('skinlesion')",
   "language": "python",
   "name": "python3"
  },
  "language_info": {
   "codemirror_mode": {
    "name": "ipython",
    "version": 3
   },
   "file_extension": ".py",
   "mimetype": "text/x-python",
   "name": "python",
   "nbconvert_exporter": "python",
   "pygments_lexer": "ipython3",
   "version": "3.11.5"
  },
  "orig_nbformat": 4
 },
 "nbformat": 4,
 "nbformat_minor": 2
}
